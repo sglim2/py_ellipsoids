{
 "cells": [
  {
   "cell_type": "markdown",
   "metadata": {},
   "source": [
    "## Welcome to Building Icosahedrons\n",
    "\n",
    "This code is part of the _py_ellipsoid_ package(_ref_), and provides a description of the icosahedron grid structure used within the code.\n",
    "\n",
    "(To run the code in this notebook, you will need to install numpy and matplotlob)."
   ]
  },
  {
   "cell_type": "markdown",
   "metadata": {},
   "source": [
    "Let's import the icosahedron module:"
   ]
  },
  {
   "cell_type": "code",
   "execution_count": 1,
   "metadata": {
    "collapsed": true
   },
   "outputs": [],
   "source": [
    "import icosahedron as ico"
   ]
  },
  {
   "cell_type": "markdown",
   "metadata": {},
   "source": [
    "Let's first take a look at the icosahedron help page."
   ]
  },
  {
   "cell_type": "code",
   "execution_count": 2,
   "metadata": {
    "collapsed": false
   },
   "outputs": [
    {
     "name": "stdout",
     "output_type": "stream",
     "text": [
      "Help on module icosahedron:\n",
      "\n",
      "NAME\n",
      "    icosahedron - Created on Mon Jan 26 09:41:29 2015\n",
      "\n",
      "FILE\n",
      "    /Users/sacim/bitbucket/py_ellipsoids/src/icosahedron.py\n",
      "\n",
      "DESCRIPTION\n",
      "    @author: sacim\n",
      "\n",
      "CLASSES\n",
      "    Icosahedron\n",
      "    \n",
      "    class Icosahedron\n",
      "     |  #=============================================================================\n",
      "     |  \n",
      "     |  Methods defined here:\n",
      "     |  \n",
      "     |  __init__(self, ngrid, name='ellipsoid')\n",
      "     |  \n",
      "     |  create_icosahedron(self)\n",
      "     |      Creates an icosahedron\n",
      "     |      \n",
      "     |      A regular icosahedron is initialized with 12 vertices defined by array\n",
      "     |      A (see code). This defines a regular icosahedron with vertices \n",
      "     |      normalised to  unity. Each vertex is then rotated by Beta (see code)\n",
      "     |      about the y-axis. This gives us a regular icosahedron with 'poles' \n",
      "     |      along the z-axis.\n",
      "     |      \n",
      "     |      From this point the icosahedron is split into 10 domains, consisting\n",
      "     |      of 2 joined equilateral trianlges, 5 with a vertex position at the \n",
      "     |      north pole, and five with a vertex at the south pole.\n",
      "     |      \n",
      "     |      Within each domain, ngrid-1 geodesic points are calculated between \n",
      "     |      adjacent vertices, giving ngrid+1 points along each domain edge.\n",
      "     |      \n",
      "     |      The remaining geodesic points are then calculated by walking through\n",
      "     |      suitable pairs of domain edge points, and calculating the suitable \n",
      "     |      number of points between these pairs.\n",
      "     |      \n",
      "     |      Each domain is split into triangle points and stored in a numpy array\n",
      "     |      TP. TP triplets consist of x, y, and z coordinates of the calculated \n",
      "     |      triangles.\n",
      "     |      \n",
      "     |      The numpy array NP holds the normal of each vertex of a TP triangle.\n",
      "     |      \n",
      "     |      the numpy array indices holds the indices of the triangles and their\n",
      "     |      associated normals in a format suitable for processing by the  \n",
      "     |      pycollada package.\n",
      "     |  \n",
      "     |  get_centre(self)\n",
      "     |      Finds the centre of the ellipsoid, simply by averaging two points \n",
      "     |      lying on the (perhaps rotated) x semi-axis.\n",
      "     |  \n",
      "     |  rotate_AlphaBetaGamma(self, alpha, beta, gamma)\n",
      "     |  \n",
      "     |  rotate_about_u(self, theta, u)\n",
      "     |      Rotate icosahedron by theta radians about vector u\n",
      "     |      u must be normalized.\n",
      "     |  \n",
      "     |  rotate_about_xaxis(self, alpha)\n",
      "     |      Rotates the icosahedron by beta radians about the x axis. Rotation is\n",
      "     |      anti-clockwise as you look down the axis (from a positive viewpoint) \n",
      "     |      towards the origin.\n",
      "     |  \n",
      "     |  rotate_about_yaxis(self, beta)\n",
      "     |      Rotates the icosahedron by beta radians about the y axis. Rotation is\n",
      "     |      anti-clockwise as you look down the axis (from a positive viewpoint) \n",
      "     |      towards the origin.\n",
      "     |  \n",
      "     |  rotate_about_zaxis(self, gamma)\n",
      "     |      Rotates the icosahedron by beta radians about the z axis. Rotation is\n",
      "     |      anti-clockwise as you look down the axis (from a positive viewpoint) \n",
      "     |      towards the origin.\n",
      "     |  \n",
      "     |  rotate_eulerXY(self, alpha, beta)\n",
      "     |      Rotate icosahedron by alpha radians about Y, then by beta radians about\n",
      "     |      X. Rotation matirces about Y,X-axes are pre-mutliplied to give a new\n",
      "     |      R matrix:\n",
      "     |        R = XY\n",
      "     |      Rotation is performed by R acting on each point on the icosahedron.\n",
      "     |  \n",
      "     |  rotate_eulerYX(self, alpha, beta)\n",
      "     |      Rotate icosahedron by alpha radians about X, then by beta radians about\n",
      "     |      Y. Rotation matrices about X,Y-axes are pre-mutliplied to give a new\n",
      "     |      R matrix:\n",
      "     |        R = YX\n",
      "     |      Rotation is performed by R acting on each point on the icosahedron.\n",
      "     |      Rotation is anti-clockwise as you look down the axis (from a positive \n",
      "     |      viewpoint) towards the origin.\n",
      "     |  \n",
      "     |  rotate_eulerZY(self, alpha, beta)\n",
      "     |      Rotate icosahedron by alpha radians about Y, then by beta radians about\n",
      "     |      X. Rotation matrices about Y,X-axes are pre-mutliplied to give a new\n",
      "     |      R matrix:\n",
      "     |        R = XY\n",
      "     |      Rotation is performed by R acting on each point on the icosahedron.\n",
      "     |  \n",
      "     |  stretch(self, A, B, C)\n",
      "     |      Stretches the icosahedron by a factor of A,B,C along x,y,z axes respectively\n",
      "     |      \n",
      "     |      Before scaling, the icosahedron is centred at the origin, and returned\n",
      "     |      to its original position afterwards.\n",
      "     |  \n",
      "     |  translate(self, x, y, z)\n",
      "     |      Shifts the origin by x,y,z\n",
      "     |  \n",
      "     |  translateTo(self, x, y, z)\n",
      "     |      Shifts the origin to x,y,z\n",
      "\n",
      "FUNCTIONS\n",
      "    normalize(P)\n",
      "        Nomalizes a point P.\n",
      "    \n",
      "    rotate_eulerZY(alpha, beta, point)\n",
      "        Rotate a point by alpha radians about Y, then by beta radians about\n",
      "        X. Rotation matrices about Y,X-axes are pre-mutliplied to give a new\n",
      "        R matrix:\n",
      "          R = XY\n",
      "        Rotation is performed by R acting on the point.\n",
      "    \n",
      "    rotate_point_about_u(theta, point, u)\n",
      "        Returns a point rotated by angle theta about vector u.\n",
      "        u must be normalized.\n",
      "    \n",
      "    rotate_point_about_xaxis(alpha, point)\n",
      "        Returns a point rotated by alpha radians about the x axis. Rotation is\n",
      "        anti-clockwise as you look down the axis (from a positive viewpoint) \n",
      "        towards the origin.\n",
      "    \n",
      "    rotate_point_about_yaxis(beta, point)\n",
      "        Returns a point rotated by beta radians about the y axis. Rotation is\n",
      "        anti-clockwise as you look down the axis (from a positive viewpoint) \n",
      "        towards the origin.\n",
      "    \n",
      "    rotate_point_about_zaxis(gamma, point)\n",
      "        Returns a point rotated by gamma radians about the z axis. Rotation is\n",
      "        anti-clockwise as you look down the axis (from a positive viewpoint) \n",
      "        towards the origin.\n",
      "\n",
      "\n"
     ]
    }
   ],
   "source": [
    "help(ico)"
   ]
  },
  {
   "cell_type": "markdown",
   "metadata": {},
   "source": [
    "Now we'll build a few icosahedrons and show how the grid structure changes given varying parameters."
   ]
  },
  {
   "cell_type": "markdown",
   "metadata": {},
   "source": [
    "Let's build our first, and most basic, icosahedron grid structure. We name it 'grid1', and use a resolution of 1."
   ]
  },
  {
   "cell_type": "code",
   "execution_count": 3,
   "metadata": {
    "collapsed": false
   },
   "outputs": [],
   "source": [
    "res=1\n",
    "ico1=ico.Icosahedron(res,'grid1')"
   ]
  },
  {
   "cell_type": "code",
   "execution_count": 4,
   "metadata": {
    "collapsed": false
   },
   "outputs": [],
   "source": [
    "from mpl_toolkits.mplot3d import Axes3D\n",
    "import matplotlib.pyplot as plt\n",
    "%matplotlib inline"
   ]
  },
  {
   "cell_type": "markdown",
   "metadata": {},
   "source": [
    "Our vertex points are stored in ico1.TP. We'll use this array to extract out x,y,z points for plotting, and perform a wireframe plot over all defined triangles."
   ]
  },
  {
   "cell_type": "code",
   "execution_count": 5,
   "metadata": {
    "collapsed": false,
    "scrolled": true
   },
   "outputs": [
    {
     "data": {
      "image/png": "[encoded data removed]",
      "text/plain": [
       "<matplotlib.figure.Figure at 0x10d609790>"
      ]
     },
     "metadata": {},
     "output_type": "display_data"
    }
   ],
   "source": [
    "fig = plt.figure()\n",
    "ax = fig.add_subplot(111, projection='3d')\n",
    "ax.set_aspect('equal', 'datalim')\n",
    "ax.scatter(ico1.TP[:,0], ico1.TP[:,1], ico1.TP[:,2], c='r', marker='.')\n",
    "for i in range(0,len(ico1.TP[:,0]),3):\n",
    "    X=[ico1.TP[i  ,0],ico1.TP[i+1,0],ico1.TP[i+2,0]]\n",
    "    Y=[ico1.TP[i  ,1],ico1.TP[i+1,1],ico1.TP[i+2,1]]\n",
    "    Z=[ico1.TP[i  ,2],ico1.TP[i+1,2],ico1.TP[i+2,2]]\n",
    "    ax.plot_wireframe(X,Y,Z)"
   ]
  },
  {
   "cell_type": "code",
   "execution_count": null,
   "metadata": {
    "collapsed": true
   },
   "outputs": [],
   "source": []
  }
 ],
 "metadata": {
  "kernelspec": {
   "display_name": "Python 2",
   "language": "python",
   "name": "python2"
  },
  "language_info": {
   "codemirror_mode": {
    "name": "ipython",
    "version": 2
   },
   "file_extension": ".py",
   "mimetype": "text/x-python",
   "name": "python",
   "nbconvert_exporter": "python",
   "pygments_lexer": "ipython2",
   "version": "2.7.10"
  }
 },
 "nbformat": 4,
 "nbformat_minor": 0
}
