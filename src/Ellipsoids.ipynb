{
 "metadata": {
  "name": "",
  "signature": "sha256:1dc00d59d03047c5577b212b3447e0599db29a4f4413aba8f38490351392cdbd"
 },
 "nbformat": 3,
 "nbformat_minor": 0,
 "worksheets": [
  {
   "cells": [
    {
     "cell_type": "code",
     "collapsed": false,
     "input": [
      "import uuid\n",
      "\n",
      "import py_ellipsoids\n",
      "import pandas as pd\n",
      "\n",
      "d = {'description' : [\"Ellipsoid1\", \"Ellipsoid2\", \"Ellipsoid3\", \"Ellipsoid4\"],\n",
      "     'A':            [ 25.        , 25.         , 25.         , 25.         ],\n",
      "     'B':            [ 50.        , 50.         , 50.         , 50.         ],\n",
      "     'C':            [ 200.       , 200.        , 200.        , 200.        ],\n",
      "     'lat':          [ 51.530     , 51.531      , 51.532      , 51.533      ],\n",
      "     'lon':          [-3.0722     ,-3.0722      ,-3.0722      ,-3.0722      ],\n",
      "     'alt':          [ 0.         , 0.          , 0.          , 0.          ],\n",
      "     'alpha':        [ 0.         , 0.          , 0.          , 0.          ],\n",
      "     'beta':         [ 0.         , 0.          , 0.          , 0.          ],\n",
      "     'gamma':        [ 0.         , 0.          , 0.          , 0.          ],\n",
      "     'colour':       [ \"white\"    , \"aqua\"      , \"olive\"     , \"grey\"      ],\n",
      "     'transparency': [ 0.         , 0.          , 0.5         , 0.9         ]}\n",
      "df=pd.DataFrame(d)\n",
      "uuidstr=str(uuid.uuid4())\n",
      "csvfile=uuidstr + \".csv\"\n",
      "df.to_csv(csvfile,index=False)\n",
      "\n",
      "kmzfile=\"/srv/www/htdocs/kmz/\" + uuidstr + \".kmz\"\n",
      "\n",
      "py_ellipsoids.main(csvfile,kmzfile,8)\n",
      "\n",
      "\"http://funghi.chemy.cf.ac.uk/kmz/\"+uuidstr+\".kmz\""
     ],
     "language": "python",
     "metadata": {},
     "outputs": [
      {
       "metadata": {},
       "output_type": "pyout",
       "prompt_number": 31,
       "text": [
        "'http://funghi.chemy.cf.ac.uk/kmz/a8b4f517-e02a-41ef-b45f-2dc70bfc1fb9.kmz'"
       ]
      }
     ],
     "prompt_number": 31
    },
    {
     "cell_type": "code",
     "collapsed": false,
     "input": [],
     "language": "python",
     "metadata": {},
     "outputs": [],
     "prompt_number": 24
    },
    {
     "cell_type": "code",
     "collapsed": false,
     "input": [],
     "language": "python",
     "metadata": {},
     "outputs": []
    },
    {
     "cell_type": "code",
     "collapsed": false,
     "input": [],
     "language": "python",
     "metadata": {},
     "outputs": [],
     "prompt_number": 13
    },
    {
     "cell_type": "code",
     "collapsed": false,
     "input": [],
     "language": "python",
     "metadata": {},
     "outputs": []
    }
   ],
   "metadata": {}
  }
 ]
}